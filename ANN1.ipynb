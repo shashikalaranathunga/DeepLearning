{
 "cells": [
  {
   "cell_type": "code",
   "execution_count": 11,
   "metadata": {},
   "outputs": [],
   "source": [
    "# Classification template\n",
    "\n",
    "# Importing the libraries\n",
    "import numpy as np\n",
    "import matplotlib.pyplot as plt\n",
    "import pandas as pd"
   ]
  },
  {
   "cell_type": "code",
   "execution_count": 12,
   "metadata": {},
   "outputs": [],
   "source": [
    "# Importing the dataset\n",
    "dataset = pd.read_csv('Churn_Modelling.csv')\n",
    "X = dataset.iloc[:, 3:13].values\n",
    "y = dataset.iloc[:, 13].values\n",
    "\n"
   ]
  },
  {
   "cell_type": "code",
   "execution_count": 13,
   "metadata": {},
   "outputs": [
    {
     "name": "stderr",
     "output_type": "stream",
     "text": [
      "C:\\ProgramData\\Anaconda3\\lib\\site-packages\\sklearn\\preprocessing\\_encoders.py:415: FutureWarning: The handling of integer data will change in version 0.22. Currently, the categories are determined based on the range [0, max(values)], while in the future they will be determined based on the unique values.\n",
      "If you want the future behaviour and silence this warning, you can specify \"categories='auto'\".\n",
      "In case you used a LabelEncoder before this OneHotEncoder to convert the categories to integers, then you can now use the OneHotEncoder directly.\n",
      "  warnings.warn(msg, FutureWarning)\n",
      "C:\\ProgramData\\Anaconda3\\lib\\site-packages\\sklearn\\preprocessing\\_encoders.py:451: DeprecationWarning: The 'categorical_features' keyword is deprecated in version 0.20 and will be removed in 0.22. You can use the ColumnTransformer instead.\n",
      "  \"use the ColumnTransformer instead.\", DeprecationWarning)\n"
     ]
    }
   ],
   "source": [
    "\n",
    "# Encoding categorical data\n",
    "from sklearn.preprocessing import LabelEncoder, OneHotEncoder\n",
    "labelencoder_X_1 = LabelEncoder()\n",
    "X[:, 1] = labelencoder_X_1.fit_transform(X[:, 1])\n",
    "\n",
    "labelencoder_X_2 = LabelEncoder()\n",
    "X[:, 2] = labelencoder_X_2.fit_transform(X[:, 2])\n",
    "\n",
    "onehotencoder = OneHotEncoder(categorical_features = [1])\n",
    "X = onehotencoder.fit_transform(X).toarray()\n",
    "X = X[:, 1:]"
   ]
  },
  {
   "cell_type": "code",
   "execution_count": 14,
   "metadata": {},
   "outputs": [],
   "source": [
    "# Splitting the dataset into the Training set and Test set\n",
    "from sklearn.model_selection import train_test_split\n",
    "X_train, X_test, y_train, y_test = train_test_split(X, y, test_size = 0.2, random_state = 0)\n",
    "\n"
   ]
  },
  {
   "cell_type": "code",
   "execution_count": 15,
   "metadata": {},
   "outputs": [],
   "source": [
    "# Feature Scaling\n",
    "from sklearn.preprocessing import StandardScaler\n",
    "sc = StandardScaler()\n",
    "X_train = sc.fit_transform(X_train)\n",
    "X_test = sc.transform(X_test)\n",
    "\n"
   ]
  },
  {
   "cell_type": "code",
   "execution_count": 16,
   "metadata": {},
   "outputs": [],
   "source": [
    "# Feature Scaling\n",
    "from sklearn.preprocessing import StandardScaler\n",
    "sc = StandardScaler()\n",
    "X_train = sc.fit_transform(X_train)\n",
    "X_test = sc.transform(X_test)"
   ]
  },
  {
   "cell_type": "code",
   "execution_count": 17,
   "metadata": {},
   "outputs": [],
   "source": [
    "\n",
    "# Importing the Keras libraries and packages\n",
    "import tensorflow\n",
    "from tensorflow.keras.models import Sequential\n",
    "from tensorflow.keras.layers import Dense"
   ]
  },
  {
   "cell_type": "code",
   "execution_count": 18,
   "metadata": {},
   "outputs": [],
   "source": [
    "# Initialising the ANN\n",
    "classifier = Sequential()\n"
   ]
  },
  {
   "cell_type": "code",
   "execution_count": 19,
   "metadata": {},
   "outputs": [],
   "source": [
    "# Adding the input layer and the first hidden layer\n",
    "classifier.add(Dense(units = 6, kernel_initializer = 'uniform', activation = 'relu', input_dim = 11))"
   ]
  },
  {
   "cell_type": "code",
   "execution_count": 20,
   "metadata": {},
   "outputs": [],
   "source": [
    "# Adding the second hidden layer\n",
    "classifier.add(Dense(units = 6, kernel_initializer = 'uniform', activation = 'relu'))"
   ]
  },
  {
   "cell_type": "code",
   "execution_count": 21,
   "metadata": {},
   "outputs": [],
   "source": [
    "# Adding the output layer\n",
    "classifier.add(Dense(units = 1, kernel_initializer = 'uniform', activation = 'sigmoid'))\n"
   ]
  },
  {
   "cell_type": "code",
   "execution_count": 22,
   "metadata": {},
   "outputs": [
    {
     "name": "stdout",
     "output_type": "stream",
     "text": [
      "WARNING:tensorflow:From C:\\ProgramData\\Anaconda3\\lib\\site-packages\\tensorflow\\python\\ops\\nn_impl.py:180: add_dispatch_support.<locals>.wrapper (from tensorflow.python.ops.array_ops) is deprecated and will be removed in a future version.\n",
      "Instructions for updating:\n",
      "Use tf.where in 2.0, which has the same broadcast rule as np.where\n"
     ]
    }
   ],
   "source": [
    "# Compiling the ANN\n",
    "classifier.compile(optimizer = 'adam', loss = 'binary_crossentropy', metrics = ['accuracy'])\n"
   ]
  },
  {
   "cell_type": "code",
   "execution_count": 23,
   "metadata": {},
   "outputs": [
    {
     "name": "stdout",
     "output_type": "stream",
     "text": [
      "Epoch 1/100\n",
      "8000/8000 [==============================] - 12s 1ms/sample - loss: 0.4789 - acc: 0.7960\n",
      "Epoch 2/100\n",
      "8000/8000 [==============================] - 3s 364us/sample - loss: 0.4277 - acc: 0.7960\n",
      "Epoch 3/100\n",
      "8000/8000 [==============================] - 3s 365us/sample - loss: 0.4216 - acc: 0.8065\n",
      "Epoch 4/100\n",
      "8000/8000 [==============================] - 3s 359us/sample - loss: 0.4180 - acc: 0.8242\n",
      "Epoch 5/100\n",
      "8000/8000 [==============================] - 3s 402us/sample - loss: 0.4159 - acc: 0.8270\n",
      "Epoch 6/100\n",
      "8000/8000 [==============================] - 3s 368us/sample - loss: 0.4138 - acc: 0.8313\n",
      "Epoch 7/100\n",
      "8000/8000 [==============================] - 3s 370us/sample - loss: 0.4124 - acc: 0.8307\n",
      "Epoch 8/100\n",
      "8000/8000 [==============================] - 3s 372us/sample - loss: 0.4114 - acc: 0.8317\n",
      "Epoch 9/100\n",
      "8000/8000 [==============================] - 3s 378us/sample - loss: 0.4099 - acc: 0.8335\n",
      "Epoch 10/100\n",
      "8000/8000 [==============================] - 3s 360us/sample - loss: 0.4088 - acc: 0.8332\n",
      "Epoch 11/100\n",
      "8000/8000 [==============================] - 3s 355us/sample - loss: 0.4084 - acc: 0.8330\n",
      "Epoch 12/100\n",
      "8000/8000 [==============================] - 4s 448us/sample - loss: 0.4075 - acc: 0.8331\n",
      "Epoch 13/100\n",
      "8000/8000 [==============================] - 4s 498us/sample - loss: 0.4071 - acc: 0.8356\n",
      "Epoch 14/100\n",
      "8000/8000 [==============================] - 4s 468us/sample - loss: 0.4066 - acc: 0.8344\n",
      "Epoch 15/100\n",
      "8000/8000 [==============================] - 4s 441us/sample - loss: 0.4057 - acc: 0.8339\n",
      "Epoch 16/100\n",
      "8000/8000 [==============================] - 3s 426us/sample - loss: 0.4052 - acc: 0.8334\n",
      "Epoch 17/100\n",
      "8000/8000 [==============================] - 4s 438us/sample - loss: 0.4048 - acc: 0.8342\n",
      "Epoch 18/100\n",
      "8000/8000 [==============================] - 4s 447us/sample - loss: 0.4042 - acc: 0.8354\n",
      "Epoch 19/100\n",
      "8000/8000 [==============================] - 3s 410us/sample - loss: 0.4038 - acc: 0.8344\n",
      "Epoch 20/100\n",
      "8000/8000 [==============================] - 3s 428us/sample - loss: 0.4035 - acc: 0.8344\n",
      "Epoch 21/100\n",
      "8000/8000 [==============================] - 3s 425us/sample - loss: 0.4038 - acc: 0.8332\n",
      "Epoch 22/100\n",
      "8000/8000 [==============================] - 3s 343us/sample - loss: 0.4032 - acc: 0.8342\n",
      "Epoch 23/100\n",
      "8000/8000 [==============================] - 2s 283us/sample - loss: 0.4032 - acc: 0.8351\n",
      "Epoch 24/100\n",
      "8000/8000 [==============================] - 2s 282us/sample - loss: 0.4031 - acc: 0.8351\n",
      "Epoch 25/100\n",
      "8000/8000 [==============================] - 2s 304us/sample - loss: 0.4027 - acc: 0.8354\n",
      "Epoch 26/100\n",
      "8000/8000 [==============================] - 2s 283us/sample - loss: 0.4025 - acc: 0.8366\n",
      "Epoch 27/100\n",
      "8000/8000 [==============================] - 2s 281us/sample - loss: 0.4024 - acc: 0.8353\n",
      "Epoch 28/100\n",
      "8000/8000 [==============================] - 2s 277us/sample - loss: 0.4023 - acc: 0.8345\n",
      "Epoch 29/100\n",
      "8000/8000 [==============================] - 2s 276us/sample - loss: 0.4025 - acc: 0.8346\n",
      "Epoch 30/100\n",
      "8000/8000 [==============================] - 2s 308us/sample - loss: 0.4022 - acc: 0.8353\n",
      "Epoch 31/100\n",
      "8000/8000 [==============================] - 2s 312us/sample - loss: 0.4018 - acc: 0.8363\n",
      "Epoch 32/100\n",
      "8000/8000 [==============================] - 2s 276us/sample - loss: 0.4012 - acc: 0.8340\n",
      "Epoch 33/100\n",
      "8000/8000 [==============================] - 2s 278us/sample - loss: 0.4020 - acc: 0.8361\n",
      "Epoch 34/100\n",
      "8000/8000 [==============================] - 2s 277us/sample - loss: 0.4022 - acc: 0.8345\n",
      "Epoch 35/100\n",
      "8000/8000 [==============================] - 2s 271us/sample - loss: 0.4017 - acc: 0.8357\n",
      "Epoch 36/100\n",
      "8000/8000 [==============================] - 2s 270us/sample - loss: 0.4015 - acc: 0.8353\n",
      "Epoch 37/100\n",
      "8000/8000 [==============================] - 2s 275us/sample - loss: 0.4016 - acc: 0.8364\n",
      "Epoch 38/100\n",
      "8000/8000 [==============================] - 2s 282us/sample - loss: 0.4014 - acc: 0.8353\n",
      "Epoch 39/100\n",
      "8000/8000 [==============================] - 2s 272us/sample - loss: 0.4012 - acc: 0.8340\n",
      "Epoch 40/100\n",
      "8000/8000 [==============================] - 2s 276us/sample - loss: 0.4015 - acc: 0.8357\n",
      "Epoch 41/100\n",
      "8000/8000 [==============================] - 2s 274us/sample - loss: 0.4013 - acc: 0.8355\n",
      "Epoch 42/100\n",
      "8000/8000 [==============================] - 2s 282us/sample - loss: 0.4012 - acc: 0.8346\n",
      "Epoch 43/100\n",
      "8000/8000 [==============================] - 2s 278us/sample - loss: 0.4012 - acc: 0.8359\n",
      "Epoch 44/100\n",
      "8000/8000 [==============================] - 2s 278us/sample - loss: 0.4015 - acc: 0.8341\n",
      "Epoch 45/100\n",
      "8000/8000 [==============================] - 2s 279us/sample - loss: 0.4011 - acc: 0.8354\n",
      "Epoch 46/100\n",
      "8000/8000 [==============================] - 2s 279us/sample - loss: 0.4010 - acc: 0.8356\n",
      "Epoch 47/100\n",
      "8000/8000 [==============================] - 2s 281us/sample - loss: 0.4011 - acc: 0.8355\n",
      "Epoch 48/100\n",
      "8000/8000 [==============================] - 2s 283us/sample - loss: 0.4009 - acc: 0.8356\n",
      "Epoch 49/100\n",
      "8000/8000 [==============================] - 2s 288us/sample - loss: 0.4006 - acc: 0.8350\n",
      "Epoch 50/100\n",
      "8000/8000 [==============================] - 2s 288us/sample - loss: 0.4011 - acc: 0.8359\n",
      "Epoch 51/100\n",
      "8000/8000 [==============================] - 2s 279us/sample - loss: 0.4011 - acc: 0.8361\n",
      "Epoch 52/100\n",
      "8000/8000 [==============================] - 2s 287us/sample - loss: 0.4006 - acc: 0.8350\n",
      "Epoch 53/100\n",
      "8000/8000 [==============================] - 3s 323us/sample - loss: 0.4004 - acc: 0.8365\n",
      "Epoch 54/100\n",
      "8000/8000 [==============================] - 2s 290us/sample - loss: 0.4009 - acc: 0.8345\n",
      "Epoch 55/100\n",
      "8000/8000 [==============================] - 2s 275us/sample - loss: 0.4009 - acc: 0.8360\n",
      "Epoch 56/100\n",
      "8000/8000 [==============================] - 2s 273us/sample - loss: 0.4008 - acc: 0.8345\n",
      "Epoch 57/100\n",
      "8000/8000 [==============================] - 2s 278us/sample - loss: 0.4004 - acc: 0.8344\n",
      "Epoch 58/100\n",
      "8000/8000 [==============================] - 2s 281us/sample - loss: 0.4005 - acc: 0.8356\n",
      "Epoch 59/100\n",
      "8000/8000 [==============================] - 2s 287us/sample - loss: 0.4011 - acc: 0.8353\n",
      "Epoch 60/100\n",
      "8000/8000 [==============================] - 2s 286us/sample - loss: 0.4006 - acc: 0.8345\n",
      "Epoch 61/100\n",
      "8000/8000 [==============================] - 2s 281us/sample - loss: 0.4004 - acc: 0.8366\n",
      "Epoch 62/100\n",
      "8000/8000 [==============================] - 2s 276us/sample - loss: 0.4007 - acc: 0.8361\n",
      "Epoch 63/100\n",
      "8000/8000 [==============================] - 2s 275us/sample - loss: 0.4007 - acc: 0.8363\n",
      "Epoch 64/100\n",
      "8000/8000 [==============================] - 2s 286us/sample - loss: 0.4009 - acc: 0.8360\n",
      "Epoch 65/100\n",
      "8000/8000 [==============================] - 2s 280us/sample - loss: 0.4004 - acc: 0.8349\n",
      "Epoch 66/100\n",
      "8000/8000 [==============================] - 2s 281us/sample - loss: 0.4006 - acc: 0.8361\n",
      "Epoch 67/100\n",
      "8000/8000 [==============================] - 2s 281us/sample - loss: 0.4004 - acc: 0.8344\n",
      "Epoch 68/100\n",
      "8000/8000 [==============================] - 2s 287us/sample - loss: 0.4005 - acc: 0.8344\n",
      "Epoch 69/100\n",
      "8000/8000 [==============================] - 2s 299us/sample - loss: 0.4006 - acc: 0.8351\n",
      "Epoch 70/100\n",
      "8000/8000 [==============================] - 2s 283us/sample - loss: 0.4002 - acc: 0.8357\n",
      "Epoch 71/100\n",
      "8000/8000 [==============================] - 2s 276us/sample - loss: 0.4005 - acc: 0.8342\n",
      "Epoch 72/100\n",
      "8000/8000 [==============================] - 2s 280us/sample - loss: 0.4006 - acc: 0.8361\n",
      "Epoch 73/100\n",
      "8000/8000 [==============================] - 2s 292us/sample - loss: 0.4004 - acc: 0.8347\n",
      "Epoch 74/100\n",
      "8000/8000 [==============================] - 2s 285us/sample - loss: 0.4004 - acc: 0.8339\n",
      "Epoch 75/100\n",
      "8000/8000 [==============================] - 2s 292us/sample - loss: 0.4001 - acc: 0.8346\n",
      "Epoch 76/100\n",
      "8000/8000 [==============================] - 3s 315us/sample - loss: 0.4003 - acc: 0.8370\n",
      "Epoch 77/100\n",
      "8000/8000 [==============================] - 3s 342us/sample - loss: 0.3998 - acc: 0.8354\n",
      "Epoch 78/100\n",
      "8000/8000 [==============================] - 2s 311us/sample - loss: 0.3998 - acc: 0.8378\n",
      "Epoch 79/100\n",
      "8000/8000 [==============================] - 2s 298us/sample - loss: 0.3999 - acc: 0.8350\n",
      "Epoch 80/100\n",
      "8000/8000 [==============================] - 3s 314us/sample - loss: 0.3999 - acc: 0.8363\n",
      "Epoch 81/100\n",
      "8000/8000 [==============================] - 2s 312us/sample - loss: 0.4002 - acc: 0.8376\n",
      "Epoch 82/100\n",
      "8000/8000 [==============================] - 2s 299us/sample - loss: 0.4002 - acc: 0.8351\n",
      "Epoch 83/100\n",
      "8000/8000 [==============================] - 3s 316us/sample - loss: 0.3998 - acc: 0.8359\n",
      "Epoch 84/100\n",
      "8000/8000 [==============================] - 2s 287us/sample - loss: 0.3999 - acc: 0.8355\n",
      "Epoch 85/100\n",
      "8000/8000 [==============================] - 2s 293us/sample - loss: 0.4005 - acc: 0.8355\n",
      "Epoch 86/100\n",
      "8000/8000 [==============================] - 2s 282us/sample - loss: 0.4004 - acc: 0.8366\n",
      "Epoch 87/100\n",
      "8000/8000 [==============================] - 2s 290us/sample - loss: 0.3996 - acc: 0.8365\n",
      "Epoch 88/100\n",
      "8000/8000 [==============================] - 2s 311us/sample - loss: 0.4000 - acc: 0.8349\n",
      "Epoch 89/100\n",
      "8000/8000 [==============================] - 3s 339us/sample - loss: 0.4002 - acc: 0.8359\n",
      "Epoch 90/100\n",
      "8000/8000 [==============================] - 2s 300us/sample - loss: 0.4004 - acc: 0.8369\n",
      "Epoch 91/100\n",
      "8000/8000 [==============================] - 2s 288us/sample - loss: 0.4001 - acc: 0.8356\n",
      "Epoch 92/100\n",
      "8000/8000 [==============================] - 2s 283us/sample - loss: 0.4002 - acc: 0.8354\n",
      "Epoch 93/100\n",
      "8000/8000 [==============================] - 2s 294us/sample - loss: 0.4002 - acc: 0.8345\n",
      "Epoch 94/100\n",
      "8000/8000 [==============================] - 3s 318us/sample - loss: 0.3994 - acc: 0.8357\n",
      "Epoch 95/100\n",
      "8000/8000 [==============================] - 3s 368us/sample - loss: 0.4006 - acc: 0.8350\n",
      "Epoch 96/100\n",
      "8000/8000 [==============================] - 4s 442us/sample - loss: 0.3999 - acc: 0.8350\n",
      "Epoch 97/100\n",
      "8000/8000 [==============================] - 3s 421us/sample - loss: 0.4004 - acc: 0.8355\n",
      "Epoch 98/100\n",
      "8000/8000 [==============================] - 3s 436us/sample - loss: 0.4002 - acc: 0.8359\n",
      "Epoch 99/100\n",
      "8000/8000 [==============================] - 3s 436us/sample - loss: 0.3999 - acc: 0.8365\n",
      "Epoch 100/100\n",
      "8000/8000 [==============================] - 3s 422us/sample - loss: 0.4002 - acc: 0.8346\n"
     ]
    },
    {
     "data": {
      "text/plain": [
       "<tensorflow.python.keras.callbacks.History at 0x159dc98c240>"
      ]
     },
     "execution_count": 23,
     "metadata": {},
     "output_type": "execute_result"
    }
   ],
   "source": [
    "# Fitting the ANN to the Training set\n",
    "classifier.fit(X_train, y_train, batch_size = 10, epochs = 100)"
   ]
  },
  {
   "cell_type": "code",
   "execution_count": 25,
   "metadata": {},
   "outputs": [],
   "source": [
    "# Part 3 - Making predictions and evaluating the model\n",
    "\n",
    "# Predicting the Test set results\n",
    "y_pred = classifier.predict(X_test)\n",
    "y_pred = (y_pred > 0.5)"
   ]
  },
  {
   "cell_type": "code",
   "execution_count": 26,
   "metadata": {},
   "outputs": [],
   "source": [
    "# Making the Confusion Matrix\n",
    "from sklearn.metrics import confusion_matrix\n",
    "cm = confusion_matrix(y_test, y_pred)"
   ]
  },
  {
   "cell_type": "code",
   "execution_count": 28,
   "metadata": {},
   "outputs": [
    {
     "name": "stdout",
     "output_type": "stream",
     "text": [
      "[[False]]\n"
     ]
    }
   ],
   "source": [
    "# Predicting a single new observation\n",
    "\"\"\"Predict if the customer with the following informations will leave the bank:\n",
    "Geography: France\n",
    "Credit Score: 600\n",
    "Gender: Male\n",
    "Age: 40\n",
    "Tenure: 3\n",
    "Balance: 60000\n",
    "Number of Products: 2\n",
    "Has Credit Card: Yes\n",
    "Is Active Member: Yes\n",
    "Estimated Salary: 50000\"\"\"\n",
    "new_prediction = classifier.predict(sc.transform(np.array([[0.0, 0, 600, 1, 40, 3, 60000, 2, 1, 1, 50000]])))\n",
    "new_prediction = (new_prediction > 0.5)\n",
    "print(new_prediction)"
   ]
  },
  {
   "cell_type": "code",
   "execution_count": null,
   "metadata": {},
   "outputs": [],
   "source": []
  }
 ],
 "metadata": {
  "kernelspec": {
   "display_name": "Python 3",
   "language": "python",
   "name": "python3"
  },
  "language_info": {
   "codemirror_mode": {
    "name": "ipython",
    "version": 3
   },
   "file_extension": ".py",
   "mimetype": "text/x-python",
   "name": "python",
   "nbconvert_exporter": "python",
   "pygments_lexer": "ipython3",
   "version": "3.7.3"
  }
 },
 "nbformat": 4,
 "nbformat_minor": 2
}
